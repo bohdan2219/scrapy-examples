{
 "metadata": {
  "name": "",
  "signature": "sha256:7f2da829121752572deec33a05a864fb4ebd864deffaa916c739aa382ed21ec9"
 },
 "nbformat": 3,
 "nbformat_minor": 0,
 "worksheets": [
  {
   "cells": [
    {
     "cell_type": "code",
     "collapsed": false,
     "input": [
      "import os\n",
      "os.listdir('.')"
     ],
     "language": "python",
     "metadata": {},
     "outputs": [
      {
       "metadata": {},
       "output_type": "pyout",
       "prompt_number": 8,
       "text": [
        "['.ipynb_checkpoints', 'alexa', 'read_from_json.ipynb', 'scrapy.cfg']"
       ]
      }
     ],
     "prompt_number": 8
    },
    {
     "cell_type": "code",
     "collapsed": false,
     "input": [
      "fname = 'alexa/cn.json'\n",
      "with open(fname) as f:\n",
      "    import json\n",
      "    alexa_items = []\n",
      "    for line in f:\n",
      "        # print line, type(line)\n",
      "        alexa_item = json.loads(line)\n",
      "        # print alexa_item, type(alexa_item)\n",
      "        alexa_items.append(alexa_item)"
     ],
     "language": "python",
     "metadata": {},
     "outputs": [],
     "prompt_number": 6
    },
    {
     "cell_type": "code",
     "collapsed": false,
     "input": [
      "len(alexa_items)"
     ],
     "language": "python",
     "metadata": {},
     "outputs": [
      {
       "metadata": {},
       "output_type": "pyout",
       "prompt_number": 7,
       "text": [
        "97222"
       ]
      }
     ],
     "prompt_number": 7
    },
    {
     "cell_type": "code",
     "collapsed": false,
     "input": [],
     "language": "python",
     "metadata": {},
     "outputs": []
    }
   ],
   "metadata": {}
  }
 ]
}